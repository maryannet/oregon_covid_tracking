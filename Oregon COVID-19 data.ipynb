{
 "cells": [
  {
   "cell_type": "markdown",
   "metadata": {
    "toc": true
   },
   "source": [
    "<h1>Table of Contents<span class=\"tocSkip\"></span></h1>\n",
    "<div class=\"toc\"><ul class=\"toc-item\"><li><span><a href=\"#Population\" data-toc-modified-id=\"Population-1\"><span class=\"toc-item-num\">1&nbsp;&nbsp;</span>Population</a></span></li><li><span><a href=\"#Reported-tests\" data-toc-modified-id=\"Reported-tests-2\"><span class=\"toc-item-num\">2&nbsp;&nbsp;</span>Reported tests</a></span><ul class=\"toc-item\"><li><span><a href=\"#Clackamas,-Multnomah,-Washington-and-Yamhill-counties\" data-toc-modified-id=\"Clackamas,-Multnomah,-Washington-and-Yamhill-counties-2.1\"><span class=\"toc-item-num\">2.1&nbsp;&nbsp;</span>Clackamas, Multnomah, Washington and Yamhill counties</a></span></li><li><span><a href=\"#State\" data-toc-modified-id=\"State-2.2\"><span class=\"toc-item-num\">2.2&nbsp;&nbsp;</span>State</a></span></li></ul></li><li><span><a href=\"#Cases-and-deaths\" data-toc-modified-id=\"Cases-and-deaths-3\"><span class=\"toc-item-num\">3&nbsp;&nbsp;</span>Cases and deaths</a></span><ul class=\"toc-item\"><li><span><a href=\"#Counties\" data-toc-modified-id=\"Counties-3.1\"><span class=\"toc-item-num\">3.1&nbsp;&nbsp;</span>Counties</a></span></li><li><span><a href=\"#State\" data-toc-modified-id=\"State-3.2\"><span class=\"toc-item-num\">3.2&nbsp;&nbsp;</span>State</a></span><ul class=\"toc-item\"><li><span><a href=\"#Check-whether-state-level-data-equals-the-sum-of-the-county-level-data\" data-toc-modified-id=\"Check-whether-state-level-data-equals-the-sum-of-the-county-level-data-3.2.1\"><span class=\"toc-item-num\">3.2.1&nbsp;&nbsp;</span>Check whether state-level data equals the sum of the county-level data</a></span></li></ul></li></ul></li><li><span><a href=\"#Calculating-test-and-case-rates\" data-toc-modified-id=\"Calculating-test-and-case-rates-4\"><span class=\"toc-item-num\">4&nbsp;&nbsp;</span>Calculating test and case rates</a></span><ul class=\"toc-item\"><li><span><a href=\"#Combine-case,-death-and-test-data\" data-toc-modified-id=\"Combine-case,-death-and-test-data-4.1\"><span class=\"toc-item-num\">4.1&nbsp;&nbsp;</span>Combine case, death and test data</a></span></li><li><span><a href=\"#Integrate-population-data-to-calculate-rates\" data-toc-modified-id=\"Integrate-population-data-to-calculate-rates-4.2\"><span class=\"toc-item-num\">4.2&nbsp;&nbsp;</span>Integrate population data to calculate rates</a></span></li></ul></li><li><span><a href=\"#Appendix-A:-Mobility-data\" data-toc-modified-id=\"Appendix-A:-Mobility-data-5\"><span class=\"toc-item-num\">5&nbsp;&nbsp;</span>Appendix A: Mobility data</a></span><ul class=\"toc-item\"><li><span><a href=\"#Pull-Oregon-data-and-restructure\" data-toc-modified-id=\"Pull-Oregon-data-and-restructure-5.1\"><span class=\"toc-item-num\">5.1&nbsp;&nbsp;</span>Pull Oregon data and restructure</a></span></li><li><span><a href=\"#Describe-my-understanding-of-the-data\" data-toc-modified-id=\"Describe-my-understanding-of-the-data-5.2\"><span class=\"toc-item-num\">5.2&nbsp;&nbsp;</span>Describe my understanding of the data</a></span><ul class=\"toc-item\"><li><span><a href=\"#Variables\" data-toc-modified-id=\"Variables-5.2.1\"><span class=\"toc-item-num\">5.2.1&nbsp;&nbsp;</span>Variables</a></span><ul class=\"toc-item\"><li><span><a href=\"#Categorical\" data-toc-modified-id=\"Categorical-5.2.1.1\"><span class=\"toc-item-num\">5.2.1.1&nbsp;&nbsp;</span>Categorical</a></span></li><li><span><a href=\"#Numerical\" data-toc-modified-id=\"Numerical-5.2.1.2\"><span class=\"toc-item-num\">5.2.1.2&nbsp;&nbsp;</span>Numerical</a></span></li></ul></li><li><span><a href=\"#m50-index\" data-toc-modified-id=\"m50-index-5.2.2\"><span class=\"toc-item-num\">5.2.2&nbsp;&nbsp;</span>m50 index</a></span></li></ul></li></ul></li></ul></div>"
   ]
  },
  {
   "cell_type": "code",
   "execution_count": 1,
   "metadata": {},
   "outputs": [],
   "source": [
    "import datetime\n",
    "import glob\n",
    "import os\n",
    "import re\n",
    "\n",
    "import matplotlib.pyplot as plt\n",
    "import numpy as np\n",
    "import pandas as pd\n",
    "from pandas.plotting import register_matplotlib_converters\n",
    "\n",
    "register_matplotlib_converters()"
   ]
  },
  {
   "cell_type": "markdown",
   "metadata": {},
   "source": [
    "# Population"
   ]
  },
  {
   "cell_type": "code",
   "execution_count": 2,
   "metadata": {},
   "outputs": [],
   "source": [
    "us_pop = pd.read_csv(\n",
    "    'data/input/co-est2019-alldata.csv',\n",
    "    dtype={\n",
    "        'REGION': str,\n",
    "        'DIVISION': str,\n",
    "        'STATE': str,\n",
    "        'COUNTY': str\n",
    "    },\n",
    "    encoding=\"ISO-8859-1\")"
   ]
  },
  {
   "cell_type": "code",
   "execution_count": 3,
   "metadata": {},
   "outputs": [],
   "source": [
    "us_pop['county_fips'] = us_pop['STATE'] + us_pop['COUNTY']"
   ]
  },
  {
   "cell_type": "code",
   "execution_count": 4,
   "metadata": {},
   "outputs": [],
   "source": [
    "or_population_df = us_pop[(us_pop['STNAME'] == 'Oregon') & (us_pop['COUNTY'] != '000')][[\n",
    "    'county_fips', 'CTYNAME', 'POPESTIMATE2019'\n",
    "]].copy()"
   ]
  },
  {
   "cell_type": "markdown",
   "metadata": {},
   "source": [
    "For expediency, I'm shortening the field name to just `2019pop`, but note that -- though this is directly from the U.S. Census Bureau, and this is a conventional data set to use for per capita analyses -- it's an estimate rather than an actual count (as for the decennial census) and it applies to the previous year's data."
   ]
  },
  {
   "cell_type": "code",
   "execution_count": 5,
   "metadata": {},
   "outputs": [],
   "source": [
    "or_population_df.rename(\n",
    "    columns={'POPESTIMATE2019': '2019pop',\n",
    "             'CTYNAME': 'county'}, inplace=True)"
   ]
  },
  {
   "cell_type": "code",
   "execution_count": 6,
   "metadata": {},
   "outputs": [],
   "source": [
    "or_population_df['county'] = or_population_df['county'].str.replace(\n",
    "    ' County', '')"
   ]
  },
  {
   "cell_type": "markdown",
   "metadata": {},
   "source": [
    "As a quality check, we should check whether this data corresponds to 36 county identifiers."
   ]
  },
  {
   "cell_type": "code",
   "execution_count": 7,
   "metadata": {},
   "outputs": [
    {
     "data": {
      "text/plain": [
       "True"
      ]
     },
     "execution_count": 7,
     "metadata": {},
     "output_type": "execute_result"
    }
   ],
   "source": [
    "or_population_df['county_fips'].nunique() == 36"
   ]
  },
  {
   "cell_type": "code",
   "execution_count": 8,
   "metadata": {},
   "outputs": [
    {
     "data": {
      "text/plain": [
       "True"
      ]
     },
     "execution_count": 8,
     "metadata": {},
     "output_type": "execute_result"
    }
   ],
   "source": [
    "or_population_df['county'].nunique() == 36"
   ]
  },
  {
   "cell_type": "markdown",
   "metadata": {},
   "source": [
    "# Reported tests\n",
    "\n",
    "## Clackamas, Multnomah, Washington and Yamhill counties\n",
    "\n",
    "Weekly positive and negative test counts. This is only relying on the four counties in the Multnomah County dashboard so far.\n",
    "\n",
    "Source: https://multco.us/novel-coronavirus-covid-19/regional-covid-19-data-dashboard"
   ]
  },
  {
   "cell_type": "code",
   "execution_count": 9,
   "metadata": {},
   "outputs": [],
   "source": [
    "reported_tests = pd.read_csv('data/input/oregon_counties - tests.csv',\n",
    "                             parse_dates=['date'])"
   ]
  },
  {
   "cell_type": "code",
   "execution_count": 10,
   "metadata": {},
   "outputs": [
    {
     "data": {
      "text/html": [
       "<div>\n",
       "<style scoped>\n",
       "    .dataframe tbody tr th:only-of-type {\n",
       "        vertical-align: middle;\n",
       "    }\n",
       "\n",
       "    .dataframe tbody tr th {\n",
       "        vertical-align: top;\n",
       "    }\n",
       "\n",
       "    .dataframe thead th {\n",
       "        text-align: right;\n",
       "    }\n",
       "</style>\n",
       "<table border=\"1\" class=\"dataframe\">\n",
       "  <thead>\n",
       "    <tr style=\"text-align: right;\">\n",
       "      <th></th>\n",
       "      <th>date</th>\n",
       "      <th>county</th>\n",
       "      <th>tests_neg</th>\n",
       "      <th>tests_pos</th>\n",
       "      <th>tests_total</th>\n",
       "    </tr>\n",
       "  </thead>\n",
       "  <tbody>\n",
       "    <tr>\n",
       "      <th>0</th>\n",
       "      <td>2020-02-02</td>\n",
       "      <td>Clackamas</td>\n",
       "      <td>0</td>\n",
       "      <td>0</td>\n",
       "      <td>0</td>\n",
       "    </tr>\n",
       "    <tr>\n",
       "      <th>1</th>\n",
       "      <td>2020-02-02</td>\n",
       "      <td>Multnomah</td>\n",
       "      <td>1</td>\n",
       "      <td>0</td>\n",
       "      <td>1</td>\n",
       "    </tr>\n",
       "    <tr>\n",
       "      <th>2</th>\n",
       "      <td>2020-02-02</td>\n",
       "      <td>Washington</td>\n",
       "      <td>0</td>\n",
       "      <td>0</td>\n",
       "      <td>0</td>\n",
       "    </tr>\n",
       "    <tr>\n",
       "      <th>3</th>\n",
       "      <td>2020-02-02</td>\n",
       "      <td>Yamhill</td>\n",
       "      <td>0</td>\n",
       "      <td>0</td>\n",
       "      <td>0</td>\n",
       "    </tr>\n",
       "    <tr>\n",
       "      <th>4</th>\n",
       "      <td>2020-02-09</td>\n",
       "      <td>Clackamas</td>\n",
       "      <td>0</td>\n",
       "      <td>0</td>\n",
       "      <td>0</td>\n",
       "    </tr>\n",
       "    <tr>\n",
       "      <th>...</th>\n",
       "      <td>...</td>\n",
       "      <td>...</td>\n",
       "      <td>...</td>\n",
       "      <td>...</td>\n",
       "      <td>...</td>\n",
       "    </tr>\n",
       "    <tr>\n",
       "      <th>63</th>\n",
       "      <td>2020-05-17</td>\n",
       "      <td>Yamhill</td>\n",
       "      <td>359</td>\n",
       "      <td>5</td>\n",
       "      <td>364</td>\n",
       "    </tr>\n",
       "    <tr>\n",
       "      <th>64</th>\n",
       "      <td>2020-05-24</td>\n",
       "      <td>Clackamas</td>\n",
       "      <td>4</td>\n",
       "      <td>0</td>\n",
       "      <td>4</td>\n",
       "    </tr>\n",
       "    <tr>\n",
       "      <th>65</th>\n",
       "      <td>2020-05-24</td>\n",
       "      <td>Multnomah</td>\n",
       "      <td>4</td>\n",
       "      <td>0</td>\n",
       "      <td>4</td>\n",
       "    </tr>\n",
       "    <tr>\n",
       "      <th>66</th>\n",
       "      <td>2020-05-24</td>\n",
       "      <td>Washington</td>\n",
       "      <td>1</td>\n",
       "      <td>0</td>\n",
       "      <td>1</td>\n",
       "    </tr>\n",
       "    <tr>\n",
       "      <th>67</th>\n",
       "      <td>2020-05-24</td>\n",
       "      <td>Yamhill</td>\n",
       "      <td>1</td>\n",
       "      <td>0</td>\n",
       "      <td>1</td>\n",
       "    </tr>\n",
       "  </tbody>\n",
       "</table>\n",
       "<p>68 rows × 5 columns</p>\n",
       "</div>"
      ],
      "text/plain": [
       "         date      county  tests_neg  tests_pos  tests_total\n",
       "0  2020-02-02   Clackamas          0          0            0\n",
       "1  2020-02-02   Multnomah          1          0            1\n",
       "2  2020-02-02  Washington          0          0            0\n",
       "3  2020-02-02     Yamhill          0          0            0\n",
       "4  2020-02-09   Clackamas          0          0            0\n",
       "..        ...         ...        ...        ...          ...\n",
       "63 2020-05-17     Yamhill        359          5          364\n",
       "64 2020-05-24   Clackamas          4          0            4\n",
       "65 2020-05-24   Multnomah          4          0            4\n",
       "66 2020-05-24  Washington          1          0            1\n",
       "67 2020-05-24     Yamhill          1          0            1\n",
       "\n",
       "[68 rows x 5 columns]"
      ]
     },
     "execution_count": 10,
     "metadata": {},
     "output_type": "execute_result"
    }
   ],
   "source": [
    "reported_tests"
   ]
  },
  {
   "cell_type": "markdown",
   "metadata": {},
   "source": [
    "## State\n",
    "\n",
    "Source: The Covid Tracking Project API"
   ]
  },
  {
   "cell_type": "markdown",
   "metadata": {},
   "source": [
    "To pull the most recent data, you can uncomment the code below to use the API.\n",
    "\n",
    "To limit hitting their API when I inevitably make a mess of my environment and restart the kernel, and in case people want to work from a CSV without dealing with this notebook, I'll output the data to a CSV and load it again."
   ]
  },
  {
   "cell_type": "code",
   "execution_count": 11,
   "metadata": {},
   "outputs": [],
   "source": [
    "ctp_case_api = pd.read_json(\n",
    "    'https://covidtracking.com/api/v1/states/OR/daily.json',\n",
    "    dtype={'fips': str})"
   ]
  },
  {
   "cell_type": "code",
   "execution_count": 12,
   "metadata": {},
   "outputs": [],
   "source": [
    "def output(df, filename, subdir='input', archive=False):\n",
    "    if archive == True:\n",
    "        timestamp = datetime.datetime.now().strftime('%Y-%m-%d_%p')\n",
    "        df.to_csv(f'data/archive/{filename}_{timestamp}.csv', index=False)\n",
    "    df.to_csv(f'data/{subdir}/{filename}.csv', index=False)"
   ]
  },
  {
   "cell_type": "code",
   "execution_count": 13,
   "metadata": {},
   "outputs": [],
   "source": [
    "output(ctp_case_api, 'covidtracking_or', archive=True)"
   ]
  },
  {
   "cell_type": "code",
   "execution_count": 14,
   "metadata": {},
   "outputs": [],
   "source": [
    "ctp_case_df = pd.read_csv('data/input/covidtracking_or.csv',\n",
    "                          dtype={'fips': str},\n",
    "                          parse_dates=['date', 'lastUpdateEt', 'dateChecked'])"
   ]
  },
  {
   "cell_type": "code",
   "execution_count": 15,
   "metadata": {},
   "outputs": [
    {
     "data": {
      "text/html": [
       "<div>\n",
       "<style scoped>\n",
       "    .dataframe tbody tr th:only-of-type {\n",
       "        vertical-align: middle;\n",
       "    }\n",
       "\n",
       "    .dataframe tbody tr th {\n",
       "        vertical-align: top;\n",
       "    }\n",
       "\n",
       "    .dataframe thead th {\n",
       "        text-align: right;\n",
       "    }\n",
       "</style>\n",
       "<table border=\"1\" class=\"dataframe\">\n",
       "  <thead>\n",
       "    <tr style=\"text-align: right;\">\n",
       "      <th></th>\n",
       "      <th>date</th>\n",
       "      <th>state</th>\n",
       "      <th>positive</th>\n",
       "      <th>negative</th>\n",
       "      <th>pending</th>\n",
       "      <th>hospitalizedCurrently</th>\n",
       "      <th>hospitalizedCumulative</th>\n",
       "      <th>inIcuCurrently</th>\n",
       "      <th>inIcuCumulative</th>\n",
       "      <th>onVentilatorCurrently</th>\n",
       "      <th>...</th>\n",
       "      <th>hospitalized</th>\n",
       "      <th>total</th>\n",
       "      <th>totalTestResults</th>\n",
       "      <th>posNeg</th>\n",
       "      <th>fips</th>\n",
       "      <th>deathIncrease</th>\n",
       "      <th>hospitalizedIncrease</th>\n",
       "      <th>negativeIncrease</th>\n",
       "      <th>positiveIncrease</th>\n",
       "      <th>totalTestResultsIncrease</th>\n",
       "    </tr>\n",
       "  </thead>\n",
       "  <tbody>\n",
       "    <tr>\n",
       "      <th>0</th>\n",
       "      <td>2020-05-25</td>\n",
       "      <td>OR</td>\n",
       "      <td>3949</td>\n",
       "      <td>109909</td>\n",
       "      <td>NaN</td>\n",
       "      <td>125.0</td>\n",
       "      <td>747.0</td>\n",
       "      <td>35.0</td>\n",
       "      <td>NaN</td>\n",
       "      <td>23.0</td>\n",
       "      <td>...</td>\n",
       "      <td>747.0</td>\n",
       "      <td>113858</td>\n",
       "      <td>113858</td>\n",
       "      <td>113858</td>\n",
       "      <td>41</td>\n",
       "      <td>0.0</td>\n",
       "      <td>5.0</td>\n",
       "      <td>1641.0</td>\n",
       "      <td>22.0</td>\n",
       "      <td>1663.0</td>\n",
       "    </tr>\n",
       "    <tr>\n",
       "      <th>1</th>\n",
       "      <td>2020-05-24</td>\n",
       "      <td>OR</td>\n",
       "      <td>3927</td>\n",
       "      <td>108268</td>\n",
       "      <td>NaN</td>\n",
       "      <td>117.0</td>\n",
       "      <td>742.0</td>\n",
       "      <td>35.0</td>\n",
       "      <td>NaN</td>\n",
       "      <td>18.0</td>\n",
       "      <td>...</td>\n",
       "      <td>742.0</td>\n",
       "      <td>112195</td>\n",
       "      <td>112195</td>\n",
       "      <td>112195</td>\n",
       "      <td>41</td>\n",
       "      <td>1.0</td>\n",
       "      <td>2.0</td>\n",
       "      <td>1949.0</td>\n",
       "      <td>39.0</td>\n",
       "      <td>1988.0</td>\n",
       "    </tr>\n",
       "    <tr>\n",
       "      <th>2</th>\n",
       "      <td>2020-05-23</td>\n",
       "      <td>OR</td>\n",
       "      <td>3888</td>\n",
       "      <td>106319</td>\n",
       "      <td>NaN</td>\n",
       "      <td>102.0</td>\n",
       "      <td>740.0</td>\n",
       "      <td>41.0</td>\n",
       "      <td>NaN</td>\n",
       "      <td>15.0</td>\n",
       "      <td>...</td>\n",
       "      <td>740.0</td>\n",
       "      <td>110207</td>\n",
       "      <td>110207</td>\n",
       "      <td>110207</td>\n",
       "      <td>41</td>\n",
       "      <td>0.0</td>\n",
       "      <td>3.0</td>\n",
       "      <td>2344.0</td>\n",
       "      <td>24.0</td>\n",
       "      <td>2368.0</td>\n",
       "    </tr>\n",
       "    <tr>\n",
       "      <th>3</th>\n",
       "      <td>2020-05-22</td>\n",
       "      <td>OR</td>\n",
       "      <td>3864</td>\n",
       "      <td>103975</td>\n",
       "      <td>NaN</td>\n",
       "      <td>146.0</td>\n",
       "      <td>737.0</td>\n",
       "      <td>47.0</td>\n",
       "      <td>NaN</td>\n",
       "      <td>16.0</td>\n",
       "      <td>...</td>\n",
       "      <td>737.0</td>\n",
       "      <td>107839</td>\n",
       "      <td>107839</td>\n",
       "      <td>107839</td>\n",
       "      <td>41</td>\n",
       "      <td>2.0</td>\n",
       "      <td>5.0</td>\n",
       "      <td>2568.0</td>\n",
       "      <td>47.0</td>\n",
       "      <td>2615.0</td>\n",
       "    </tr>\n",
       "    <tr>\n",
       "      <th>4</th>\n",
       "      <td>2020-05-21</td>\n",
       "      <td>OR</td>\n",
       "      <td>3817</td>\n",
       "      <td>101407</td>\n",
       "      <td>NaN</td>\n",
       "      <td>140.0</td>\n",
       "      <td>732.0</td>\n",
       "      <td>40.0</td>\n",
       "      <td>NaN</td>\n",
       "      <td>14.0</td>\n",
       "      <td>...</td>\n",
       "      <td>732.0</td>\n",
       "      <td>105224</td>\n",
       "      <td>105224</td>\n",
       "      <td>105224</td>\n",
       "      <td>41</td>\n",
       "      <td>1.0</td>\n",
       "      <td>9.0</td>\n",
       "      <td>3059.0</td>\n",
       "      <td>16.0</td>\n",
       "      <td>3075.0</td>\n",
       "    </tr>\n",
       "  </tbody>\n",
       "</table>\n",
       "<p>5 rows × 27 columns</p>\n",
       "</div>"
      ],
      "text/plain": [
       "        date state  positive  negative  pending  hospitalizedCurrently  \\\n",
       "0 2020-05-25    OR      3949    109909      NaN                  125.0   \n",
       "1 2020-05-24    OR      3927    108268      NaN                  117.0   \n",
       "2 2020-05-23    OR      3888    106319      NaN                  102.0   \n",
       "3 2020-05-22    OR      3864    103975      NaN                  146.0   \n",
       "4 2020-05-21    OR      3817    101407      NaN                  140.0   \n",
       "\n",
       "   hospitalizedCumulative  inIcuCurrently  inIcuCumulative  \\\n",
       "0                   747.0            35.0              NaN   \n",
       "1                   742.0            35.0              NaN   \n",
       "2                   740.0            41.0              NaN   \n",
       "3                   737.0            47.0              NaN   \n",
       "4                   732.0            40.0              NaN   \n",
       "\n",
       "   onVentilatorCurrently  ...  hospitalized   total totalTestResults  posNeg  \\\n",
       "0                   23.0  ...         747.0  113858           113858  113858   \n",
       "1                   18.0  ...         742.0  112195           112195  112195   \n",
       "2                   15.0  ...         740.0  110207           110207  110207   \n",
       "3                   16.0  ...         737.0  107839           107839  107839   \n",
       "4                   14.0  ...         732.0  105224           105224  105224   \n",
       "\n",
       "  fips deathIncrease  hospitalizedIncrease  negativeIncrease  \\\n",
       "0   41           0.0                   5.0            1641.0   \n",
       "1   41           1.0                   2.0            1949.0   \n",
       "2   41           0.0                   3.0            2344.0   \n",
       "3   41           2.0                   5.0            2568.0   \n",
       "4   41           1.0                   9.0            3059.0   \n",
       "\n",
       "   positiveIncrease  totalTestResultsIncrease  \n",
       "0              22.0                    1663.0  \n",
       "1              39.0                    1988.0  \n",
       "2              24.0                    2368.0  \n",
       "3              47.0                    2615.0  \n",
       "4              16.0                    3075.0  \n",
       "\n",
       "[5 rows x 27 columns]"
      ]
     },
     "execution_count": 15,
     "metadata": {},
     "output_type": "execute_result"
    }
   ],
   "source": [
    "ctp_case_df.head()"
   ]
  },
  {
   "cell_type": "markdown",
   "metadata": {},
   "source": [
    "# Cases and deaths"
   ]
  },
  {
   "cell_type": "markdown",
   "metadata": {},
   "source": [
    "## Counties"
   ]
  },
  {
   "cell_type": "markdown",
   "metadata": {},
   "source": [
    "Same deal as above re: using a local CSV vs. grabbing the data from the source URL."
   ]
  },
  {
   "cell_type": "code",
   "execution_count": 16,
   "metadata": {},
   "outputs": [],
   "source": [
    "nyt_county_url = 'https://raw.githubusercontent.com/nytimes/covid-19-data/master/us-counties.csv'\n",
    "nyt_counties = pd.read_csv(nyt_county_url,\n",
    "                           dtype={\n",
    "                               'fips': str,\n",
    "                               'cases': int,\n",
    "                               'deaths': int\n",
    "                           },\n",
    "                           parse_dates=['date'])"
   ]
  },
  {
   "cell_type": "code",
   "execution_count": 17,
   "metadata": {},
   "outputs": [],
   "source": [
    "output(nyt_counties, 'nyt_us-counties', archive=True)"
   ]
  },
  {
   "cell_type": "code",
   "execution_count": 18,
   "metadata": {},
   "outputs": [],
   "source": [
    "nyt_counties = pd.read_csv('data/input/nyt_us-counties.csv',\n",
    "                           dtype={'fips': str},\n",
    "                           parse_dates=['date'])"
   ]
  },
  {
   "cell_type": "code",
   "execution_count": 19,
   "metadata": {},
   "outputs": [],
   "source": [
    "nyt_counties.rename(columns={'fips': 'county_fips'}, inplace=True)"
   ]
  },
  {
   "cell_type": "code",
   "execution_count": 20,
   "metadata": {},
   "outputs": [],
   "source": [
    "or_counties_df = nyt_counties[nyt_counties['state'] == 'Oregon'].copy()"
   ]
  },
  {
   "cell_type": "code",
   "execution_count": 21,
   "metadata": {},
   "outputs": [
    {
     "data": {
      "text/html": [
       "<div>\n",
       "<style scoped>\n",
       "    .dataframe tbody tr th:only-of-type {\n",
       "        vertical-align: middle;\n",
       "    }\n",
       "\n",
       "    .dataframe tbody tr th {\n",
       "        vertical-align: top;\n",
       "    }\n",
       "\n",
       "    .dataframe thead th {\n",
       "        text-align: right;\n",
       "    }\n",
       "</style>\n",
       "<table border=\"1\" class=\"dataframe\">\n",
       "  <thead>\n",
       "    <tr style=\"text-align: right;\">\n",
       "      <th></th>\n",
       "      <th>date</th>\n",
       "      <th>county</th>\n",
       "      <th>state</th>\n",
       "      <th>county_fips</th>\n",
       "      <th>cases</th>\n",
       "      <th>deaths</th>\n",
       "    </tr>\n",
       "  </thead>\n",
       "  <tbody>\n",
       "    <tr>\n",
       "      <th>369</th>\n",
       "      <td>2020-02-28</td>\n",
       "      <td>Washington</td>\n",
       "      <td>Oregon</td>\n",
       "      <td>41067</td>\n",
       "      <td>1</td>\n",
       "      <td>0</td>\n",
       "    </tr>\n",
       "    <tr>\n",
       "      <th>391</th>\n",
       "      <td>2020-02-29</td>\n",
       "      <td>Washington</td>\n",
       "      <td>Oregon</td>\n",
       "      <td>41067</td>\n",
       "      <td>1</td>\n",
       "      <td>0</td>\n",
       "    </tr>\n",
       "    <tr>\n",
       "      <th>417</th>\n",
       "      <td>2020-03-01</td>\n",
       "      <td>Washington</td>\n",
       "      <td>Oregon</td>\n",
       "      <td>41067</td>\n",
       "      <td>2</td>\n",
       "      <td>0</td>\n",
       "    </tr>\n",
       "    <tr>\n",
       "      <th>449</th>\n",
       "      <td>2020-03-02</td>\n",
       "      <td>Washington</td>\n",
       "      <td>Oregon</td>\n",
       "      <td>41067</td>\n",
       "      <td>2</td>\n",
       "      <td>0</td>\n",
       "    </tr>\n",
       "    <tr>\n",
       "      <th>484</th>\n",
       "      <td>2020-03-03</td>\n",
       "      <td>Washington</td>\n",
       "      <td>Oregon</td>\n",
       "      <td>41067</td>\n",
       "      <td>2</td>\n",
       "      <td>0</td>\n",
       "    </tr>\n",
       "  </tbody>\n",
       "</table>\n",
       "</div>"
      ],
      "text/plain": [
       "          date      county   state county_fips  cases  deaths\n",
       "369 2020-02-28  Washington  Oregon       41067      1       0\n",
       "391 2020-02-29  Washington  Oregon       41067      1       0\n",
       "417 2020-03-01  Washington  Oregon       41067      2       0\n",
       "449 2020-03-02  Washington  Oregon       41067      2       0\n",
       "484 2020-03-03  Washington  Oregon       41067      2       0"
      ]
     },
     "execution_count": 21,
     "metadata": {},
     "output_type": "execute_result"
    }
   ],
   "source": [
    "or_counties_df.head()"
   ]
  },
  {
   "cell_type": "markdown",
   "metadata": {},
   "source": [
    "Check the number of unique counties in this data"
   ]
  },
  {
   "cell_type": "code",
   "execution_count": 22,
   "metadata": {},
   "outputs": [
    {
     "data": {
      "text/plain": [
       "33"
      ]
     },
     "execution_count": 22,
     "metadata": {},
     "output_type": "execute_result"
    }
   ],
   "source": [
    "or_counties_df['county_fips'].nunique()"
   ]
  },
  {
   "cell_type": "markdown",
   "metadata": {},
   "source": [
    "Determine which counties do not exist in the case data"
   ]
  },
  {
   "cell_type": "code",
   "execution_count": 23,
   "metadata": {},
   "outputs": [
    {
     "data": {
      "text/html": [
       "<div>\n",
       "<style scoped>\n",
       "    .dataframe tbody tr th:only-of-type {\n",
       "        vertical-align: middle;\n",
       "    }\n",
       "\n",
       "    .dataframe tbody tr th {\n",
       "        vertical-align: top;\n",
       "    }\n",
       "\n",
       "    .dataframe thead th {\n",
       "        text-align: right;\n",
       "    }\n",
       "</style>\n",
       "<table border=\"1\" class=\"dataframe\">\n",
       "  <thead>\n",
       "    <tr style=\"text-align: right;\">\n",
       "      <th></th>\n",
       "      <th>county_fips</th>\n",
       "      <th>county</th>\n",
       "      <th>2019pop</th>\n",
       "    </tr>\n",
       "  </thead>\n",
       "  <tbody>\n",
       "    <tr>\n",
       "      <th>2256</th>\n",
       "      <td>41021</td>\n",
       "      <td>Gilliam</td>\n",
       "      <td>1912</td>\n",
       "    </tr>\n",
       "    <tr>\n",
       "      <th>2264</th>\n",
       "      <td>41037</td>\n",
       "      <td>Lake</td>\n",
       "      <td>7869</td>\n",
       "    </tr>\n",
       "    <tr>\n",
       "      <th>2280</th>\n",
       "      <td>41069</td>\n",
       "      <td>Wheeler</td>\n",
       "      <td>1332</td>\n",
       "    </tr>\n",
       "  </tbody>\n",
       "</table>\n",
       "</div>"
      ],
      "text/plain": [
       "     county_fips   county  2019pop\n",
       "2256       41021  Gilliam     1912\n",
       "2264       41037     Lake     7869\n",
       "2280       41069  Wheeler     1332"
      ]
     },
     "execution_count": 23,
     "metadata": {},
     "output_type": "execute_result"
    }
   ],
   "source": [
    "missing = set(or_population_df['county_fips']) - \\\n",
    "    set(or_counties_df['county_fips'])\n",
    "or_population_df[or_population_df['county_fips'].isin(missing)]"
   ]
  },
  {
   "cell_type": "markdown",
   "metadata": {},
   "source": [
    "We should check regardless, but these counties' absence calls for a comparison of the state- and county-level datasets we're pulling from NYT's repository."
   ]
  },
  {
   "cell_type": "code",
   "execution_count": 24,
   "metadata": {},
   "outputs": [],
   "source": [
    "or_counties_aggregate = or_counties_df.groupby(\n",
    "    ['date'])[['cases', 'deaths']].sum().reset_index()"
   ]
  },
  {
   "cell_type": "code",
   "execution_count": 25,
   "metadata": {},
   "outputs": [
    {
     "data": {
      "text/html": [
       "<div>\n",
       "<style scoped>\n",
       "    .dataframe tbody tr th:only-of-type {\n",
       "        vertical-align: middle;\n",
       "    }\n",
       "\n",
       "    .dataframe tbody tr th {\n",
       "        vertical-align: top;\n",
       "    }\n",
       "\n",
       "    .dataframe thead th {\n",
       "        text-align: right;\n",
       "    }\n",
       "</style>\n",
       "<table border=\"1\" class=\"dataframe\">\n",
       "  <thead>\n",
       "    <tr style=\"text-align: right;\">\n",
       "      <th></th>\n",
       "      <th>date</th>\n",
       "      <th>cases</th>\n",
       "      <th>deaths</th>\n",
       "    </tr>\n",
       "  </thead>\n",
       "  <tbody>\n",
       "    <tr>\n",
       "      <th>0</th>\n",
       "      <td>2020-02-28</td>\n",
       "      <td>1</td>\n",
       "      <td>0</td>\n",
       "    </tr>\n",
       "    <tr>\n",
       "      <th>1</th>\n",
       "      <td>2020-02-29</td>\n",
       "      <td>1</td>\n",
       "      <td>0</td>\n",
       "    </tr>\n",
       "    <tr>\n",
       "      <th>2</th>\n",
       "      <td>2020-03-01</td>\n",
       "      <td>2</td>\n",
       "      <td>0</td>\n",
       "    </tr>\n",
       "    <tr>\n",
       "      <th>3</th>\n",
       "      <td>2020-03-02</td>\n",
       "      <td>2</td>\n",
       "      <td>0</td>\n",
       "    </tr>\n",
       "    <tr>\n",
       "      <th>4</th>\n",
       "      <td>2020-03-03</td>\n",
       "      <td>2</td>\n",
       "      <td>0</td>\n",
       "    </tr>\n",
       "  </tbody>\n",
       "</table>\n",
       "</div>"
      ],
      "text/plain": [
       "        date  cases  deaths\n",
       "0 2020-02-28      1       0\n",
       "1 2020-02-29      1       0\n",
       "2 2020-03-01      2       0\n",
       "3 2020-03-02      2       0\n",
       "4 2020-03-03      2       0"
      ]
     },
     "execution_count": 25,
     "metadata": {},
     "output_type": "execute_result"
    }
   ],
   "source": [
    "or_counties_aggregate.head()"
   ]
  },
  {
   "cell_type": "markdown",
   "metadata": {},
   "source": [
    "## State\n",
    "\n",
    "Same deal as above."
   ]
  },
  {
   "cell_type": "code",
   "execution_count": 26,
   "metadata": {},
   "outputs": [],
   "source": [
    "nyt_state_url = 'https://raw.githubusercontent.com/nytimes/covid-19-data/master/us-states.csv'"
   ]
  },
  {
   "cell_type": "code",
   "execution_count": 27,
   "metadata": {},
   "outputs": [],
   "source": [
    "nyt_states = pd.read_csv(nyt_state_url,\n",
    "                         dtype={\n",
    "                             'fips': str,\n",
    "                             'cases': int,\n",
    "                             'deaths': int\n",
    "                         },\n",
    "                         parse_dates=['date'])"
   ]
  },
  {
   "cell_type": "code",
   "execution_count": 28,
   "metadata": {},
   "outputs": [],
   "source": [
    "output(nyt_states, 'nyt_us-states', archive=True)"
   ]
  },
  {
   "cell_type": "code",
   "execution_count": 29,
   "metadata": {},
   "outputs": [],
   "source": [
    "nyt_states = pd.read_csv('data/input/nyt_us-states.csv',\n",
    "                         dtype={'county_fips': str},\n",
    "                         parse_dates=['date'])"
   ]
  },
  {
   "cell_type": "code",
   "execution_count": 30,
   "metadata": {},
   "outputs": [],
   "source": [
    "nyt_states.rename(columns={'state': 'name'}, inplace=True)"
   ]
  },
  {
   "cell_type": "code",
   "execution_count": 31,
   "metadata": {},
   "outputs": [],
   "source": [
    "nyt_or = nyt_states[nyt_states['name'] == 'Oregon'].copy()"
   ]
  },
  {
   "cell_type": "code",
   "execution_count": 32,
   "metadata": {},
   "outputs": [
    {
     "data": {
      "text/html": [
       "<div>\n",
       "<style scoped>\n",
       "    .dataframe tbody tr th:only-of-type {\n",
       "        vertical-align: middle;\n",
       "    }\n",
       "\n",
       "    .dataframe tbody tr th {\n",
       "        vertical-align: top;\n",
       "    }\n",
       "\n",
       "    .dataframe thead th {\n",
       "        text-align: right;\n",
       "    }\n",
       "</style>\n",
       "<table border=\"1\" class=\"dataframe\">\n",
       "  <thead>\n",
       "    <tr style=\"text-align: right;\">\n",
       "      <th></th>\n",
       "      <th>date</th>\n",
       "      <th>name</th>\n",
       "      <th>fips</th>\n",
       "      <th>cases</th>\n",
       "      <th>deaths</th>\n",
       "    </tr>\n",
       "  </thead>\n",
       "  <tbody>\n",
       "    <tr>\n",
       "      <th>225</th>\n",
       "      <td>2020-02-28</td>\n",
       "      <td>Oregon</td>\n",
       "      <td>41</td>\n",
       "      <td>1</td>\n",
       "      <td>0</td>\n",
       "    </tr>\n",
       "    <tr>\n",
       "      <th>235</th>\n",
       "      <td>2020-02-29</td>\n",
       "      <td>Oregon</td>\n",
       "      <td>41</td>\n",
       "      <td>1</td>\n",
       "      <td>0</td>\n",
       "    </tr>\n",
       "    <tr>\n",
       "      <th>247</th>\n",
       "      <td>2020-03-01</td>\n",
       "      <td>Oregon</td>\n",
       "      <td>41</td>\n",
       "      <td>2</td>\n",
       "      <td>0</td>\n",
       "    </tr>\n",
       "    <tr>\n",
       "      <th>262</th>\n",
       "      <td>2020-03-02</td>\n",
       "      <td>Oregon</td>\n",
       "      <td>41</td>\n",
       "      <td>2</td>\n",
       "      <td>0</td>\n",
       "    </tr>\n",
       "    <tr>\n",
       "      <th>278</th>\n",
       "      <td>2020-03-03</td>\n",
       "      <td>Oregon</td>\n",
       "      <td>41</td>\n",
       "      <td>2</td>\n",
       "      <td>0</td>\n",
       "    </tr>\n",
       "    <tr>\n",
       "      <th>...</th>\n",
       "      <td>...</td>\n",
       "      <td>...</td>\n",
       "      <td>...</td>\n",
       "      <td>...</td>\n",
       "      <td>...</td>\n",
       "    </tr>\n",
       "    <tr>\n",
       "      <th>4343</th>\n",
       "      <td>2020-05-20</td>\n",
       "      <td>Oregon</td>\n",
       "      <td>41</td>\n",
       "      <td>3801</td>\n",
       "      <td>144</td>\n",
       "    </tr>\n",
       "    <tr>\n",
       "      <th>4398</th>\n",
       "      <td>2020-05-21</td>\n",
       "      <td>Oregon</td>\n",
       "      <td>41</td>\n",
       "      <td>3817</td>\n",
       "      <td>145</td>\n",
       "    </tr>\n",
       "    <tr>\n",
       "      <th>4453</th>\n",
       "      <td>2020-05-22</td>\n",
       "      <td>Oregon</td>\n",
       "      <td>41</td>\n",
       "      <td>3864</td>\n",
       "      <td>147</td>\n",
       "    </tr>\n",
       "    <tr>\n",
       "      <th>4508</th>\n",
       "      <td>2020-05-23</td>\n",
       "      <td>Oregon</td>\n",
       "      <td>41</td>\n",
       "      <td>3888</td>\n",
       "      <td>147</td>\n",
       "    </tr>\n",
       "    <tr>\n",
       "      <th>4563</th>\n",
       "      <td>2020-05-24</td>\n",
       "      <td>Oregon</td>\n",
       "      <td>41</td>\n",
       "      <td>3927</td>\n",
       "      <td>148</td>\n",
       "    </tr>\n",
       "  </tbody>\n",
       "</table>\n",
       "<p>87 rows × 5 columns</p>\n",
       "</div>"
      ],
      "text/plain": [
       "           date    name  fips  cases  deaths\n",
       "225  2020-02-28  Oregon    41      1       0\n",
       "235  2020-02-29  Oregon    41      1       0\n",
       "247  2020-03-01  Oregon    41      2       0\n",
       "262  2020-03-02  Oregon    41      2       0\n",
       "278  2020-03-03  Oregon    41      2       0\n",
       "...         ...     ...   ...    ...     ...\n",
       "4343 2020-05-20  Oregon    41   3801     144\n",
       "4398 2020-05-21  Oregon    41   3817     145\n",
       "4453 2020-05-22  Oregon    41   3864     147\n",
       "4508 2020-05-23  Oregon    41   3888     147\n",
       "4563 2020-05-24  Oregon    41   3927     148\n",
       "\n",
       "[87 rows x 5 columns]"
      ]
     },
     "execution_count": 32,
     "metadata": {},
     "output_type": "execute_result"
    }
   ],
   "source": [
    "nyt_or"
   ]
  },
  {
   "cell_type": "markdown",
   "metadata": {},
   "source": [
    "### Check whether state-level data equals the sum of the county-level data"
   ]
  },
  {
   "cell_type": "code",
   "execution_count": 33,
   "metadata": {},
   "outputs": [],
   "source": [
    "or_merged = pd.merge(\n",
    "    nyt_or[['date', 'cases', 'deaths']],\n",
    "    or_counties_aggregate,\n",
    "    on='date',\n",
    "    how='outer',\n",
    "    suffixes=('_st', '_co'))"
   ]
  },
  {
   "cell_type": "code",
   "execution_count": 34,
   "metadata": {},
   "outputs": [],
   "source": [
    "or_merged['cases_diff'] = or_merged['cases_st'] - or_merged['cases_co']"
   ]
  },
  {
   "cell_type": "code",
   "execution_count": 35,
   "metadata": {},
   "outputs": [],
   "source": [
    "or_merged['deaths_diff'] = or_merged['deaths_st'] - or_merged['deaths_co']"
   ]
  },
  {
   "cell_type": "markdown",
   "metadata": {},
   "source": [
    "In many cases they are identical, but on May 13 and May 14 the state count of cases is lower. Next I might check whether the `cases_diff` value matches any value of a particular county on that day, which could be evidence (but not proof) that this is the origin of the difference.\n",
    "\n",
    "From now on, I'll proceed with analyses of Oregon on both the county and the state level with the _New York Times_' county-level data, aggregating where I need to."
   ]
  },
  {
   "cell_type": "code",
   "execution_count": 36,
   "metadata": {},
   "outputs": [
    {
     "data": {
      "text/html": [
       "<div>\n",
       "<style scoped>\n",
       "    .dataframe tbody tr th:only-of-type {\n",
       "        vertical-align: middle;\n",
       "    }\n",
       "\n",
       "    .dataframe tbody tr th {\n",
       "        vertical-align: top;\n",
       "    }\n",
       "\n",
       "    .dataframe thead th {\n",
       "        text-align: right;\n",
       "    }\n",
       "</style>\n",
       "<table border=\"1\" class=\"dataframe\">\n",
       "  <thead>\n",
       "    <tr style=\"text-align: right;\">\n",
       "      <th></th>\n",
       "      <th>date</th>\n",
       "      <th>cases_st</th>\n",
       "      <th>deaths_st</th>\n",
       "      <th>cases_co</th>\n",
       "      <th>deaths_co</th>\n",
       "      <th>cases_diff</th>\n",
       "      <th>deaths_diff</th>\n",
       "    </tr>\n",
       "  </thead>\n",
       "  <tbody>\n",
       "    <tr>\n",
       "      <th>28</th>\n",
       "      <td>2020-03-27</td>\n",
       "      <td>414</td>\n",
       "      <td>12</td>\n",
       "      <td>415</td>\n",
       "      <td>12</td>\n",
       "      <td>-1</td>\n",
       "      <td>0</td>\n",
       "    </tr>\n",
       "    <tr>\n",
       "      <th>29</th>\n",
       "      <td>2020-03-28</td>\n",
       "      <td>479</td>\n",
       "      <td>13</td>\n",
       "      <td>480</td>\n",
       "      <td>13</td>\n",
       "      <td>-1</td>\n",
       "      <td>0</td>\n",
       "    </tr>\n",
       "    <tr>\n",
       "      <th>30</th>\n",
       "      <td>2020-03-29</td>\n",
       "      <td>548</td>\n",
       "      <td>13</td>\n",
       "      <td>549</td>\n",
       "      <td>13</td>\n",
       "      <td>-1</td>\n",
       "      <td>0</td>\n",
       "    </tr>\n",
       "    <tr>\n",
       "      <th>31</th>\n",
       "      <td>2020-03-30</td>\n",
       "      <td>606</td>\n",
       "      <td>16</td>\n",
       "      <td>607</td>\n",
       "      <td>16</td>\n",
       "      <td>-1</td>\n",
       "      <td>0</td>\n",
       "    </tr>\n",
       "    <tr>\n",
       "      <th>33</th>\n",
       "      <td>2020-04-01</td>\n",
       "      <td>736</td>\n",
       "      <td>19</td>\n",
       "      <td>737</td>\n",
       "      <td>19</td>\n",
       "      <td>-1</td>\n",
       "      <td>0</td>\n",
       "    </tr>\n",
       "    <tr>\n",
       "      <th>34</th>\n",
       "      <td>2020-04-02</td>\n",
       "      <td>826</td>\n",
       "      <td>21</td>\n",
       "      <td>827</td>\n",
       "      <td>21</td>\n",
       "      <td>-1</td>\n",
       "      <td>0</td>\n",
       "    </tr>\n",
       "    <tr>\n",
       "      <th>36</th>\n",
       "      <td>2020-04-04</td>\n",
       "      <td>999</td>\n",
       "      <td>26</td>\n",
       "      <td>1000</td>\n",
       "      <td>26</td>\n",
       "      <td>-1</td>\n",
       "      <td>0</td>\n",
       "    </tr>\n",
       "    <tr>\n",
       "      <th>75</th>\n",
       "      <td>2020-05-13</td>\n",
       "      <td>3416</td>\n",
       "      <td>134</td>\n",
       "      <td>3468</td>\n",
       "      <td>134</td>\n",
       "      <td>-52</td>\n",
       "      <td>0</td>\n",
       "    </tr>\n",
       "    <tr>\n",
       "      <th>76</th>\n",
       "      <td>2020-05-14</td>\n",
       "      <td>3479</td>\n",
       "      <td>137</td>\n",
       "      <td>3600</td>\n",
       "      <td>137</td>\n",
       "      <td>-121</td>\n",
       "      <td>0</td>\n",
       "    </tr>\n",
       "  </tbody>\n",
       "</table>\n",
       "</div>"
      ],
      "text/plain": [
       "         date  cases_st  deaths_st  cases_co  deaths_co  cases_diff  \\\n",
       "28 2020-03-27       414         12       415         12          -1   \n",
       "29 2020-03-28       479         13       480         13          -1   \n",
       "30 2020-03-29       548         13       549         13          -1   \n",
       "31 2020-03-30       606         16       607         16          -1   \n",
       "33 2020-04-01       736         19       737         19          -1   \n",
       "34 2020-04-02       826         21       827         21          -1   \n",
       "36 2020-04-04       999         26      1000         26          -1   \n",
       "75 2020-05-13      3416        134      3468        134         -52   \n",
       "76 2020-05-14      3479        137      3600        137        -121   \n",
       "\n",
       "    deaths_diff  \n",
       "28            0  \n",
       "29            0  \n",
       "30            0  \n",
       "31            0  \n",
       "33            0  \n",
       "34            0  \n",
       "36            0  \n",
       "75            0  \n",
       "76            0  "
      ]
     },
     "execution_count": 36,
     "metadata": {},
     "output_type": "execute_result"
    }
   ],
   "source": [
    "or_merged[(or_merged['cases_diff'] != 0) | (or_merged['deaths_diff'] != 0)]"
   ]
  },
  {
   "cell_type": "markdown",
   "metadata": {},
   "source": [
    "# Calculating test and case rates"
   ]
  },
  {
   "cell_type": "markdown",
   "metadata": {},
   "source": [
    "## Combine case, death and test data"
   ]
  },
  {
   "cell_type": "markdown",
   "metadata": {},
   "source": [
    "First, because the county test data is at this point a weekly number, we'll pull the data for the same days as the county reports (Sundays).\n",
    "\n",
    "A previous version of this code erroniously aggregated by week, which is inappropriate for data reporting cumulative counts."
   ]
  },
  {
   "cell_type": "code",
   "execution_count": 37,
   "metadata": {},
   "outputs": [],
   "source": [
    "or_counties_df['weekday'] = or_counties_df['date'].apply(datetime.date.weekday)"
   ]
  },
  {
   "cell_type": "code",
   "execution_count": 38,
   "metadata": {},
   "outputs": [],
   "source": [
    "or_co_weekly_df = or_counties_df[or_counties_df['weekday']==6].copy()"
   ]
  },
  {
   "cell_type": "code",
   "execution_count": 39,
   "metadata": {},
   "outputs": [
    {
     "data": {
      "text/html": [
       "<div>\n",
       "<style scoped>\n",
       "    .dataframe tbody tr th:only-of-type {\n",
       "        vertical-align: middle;\n",
       "    }\n",
       "\n",
       "    .dataframe tbody tr th {\n",
       "        vertical-align: top;\n",
       "    }\n",
       "\n",
       "    .dataframe thead th {\n",
       "        text-align: right;\n",
       "    }\n",
       "</style>\n",
       "<table border=\"1\" class=\"dataframe\">\n",
       "  <thead>\n",
       "    <tr style=\"text-align: right;\">\n",
       "      <th></th>\n",
       "      <th>date</th>\n",
       "      <th>county</th>\n",
       "      <th>state</th>\n",
       "      <th>county_fips</th>\n",
       "      <th>cases</th>\n",
       "      <th>deaths</th>\n",
       "      <th>weekday</th>\n",
       "    </tr>\n",
       "  </thead>\n",
       "  <tbody>\n",
       "    <tr>\n",
       "      <th>172913</th>\n",
       "      <td>2020-05-24</td>\n",
       "      <td>Union</td>\n",
       "      <td>Oregon</td>\n",
       "      <td>41061</td>\n",
       "      <td>6</td>\n",
       "      <td>0</td>\n",
       "      <td>6</td>\n",
       "    </tr>\n",
       "    <tr>\n",
       "      <th>172914</th>\n",
       "      <td>2020-05-24</td>\n",
       "      <td>Wallowa</td>\n",
       "      <td>Oregon</td>\n",
       "      <td>41063</td>\n",
       "      <td>2</td>\n",
       "      <td>0</td>\n",
       "      <td>6</td>\n",
       "    </tr>\n",
       "    <tr>\n",
       "      <th>172915</th>\n",
       "      <td>2020-05-24</td>\n",
       "      <td>Wasco</td>\n",
       "      <td>Oregon</td>\n",
       "      <td>41065</td>\n",
       "      <td>18</td>\n",
       "      <td>1</td>\n",
       "      <td>6</td>\n",
       "    </tr>\n",
       "    <tr>\n",
       "      <th>172916</th>\n",
       "      <td>2020-05-24</td>\n",
       "      <td>Washington</td>\n",
       "      <td>Oregon</td>\n",
       "      <td>41067</td>\n",
       "      <td>690</td>\n",
       "      <td>17</td>\n",
       "      <td>6</td>\n",
       "    </tr>\n",
       "    <tr>\n",
       "      <th>172917</th>\n",
       "      <td>2020-05-24</td>\n",
       "      <td>Yamhill</td>\n",
       "      <td>Oregon</td>\n",
       "      <td>41071</td>\n",
       "      <td>65</td>\n",
       "      <td>7</td>\n",
       "      <td>6</td>\n",
       "    </tr>\n",
       "  </tbody>\n",
       "</table>\n",
       "</div>"
      ],
      "text/plain": [
       "             date      county   state county_fips  cases  deaths  weekday\n",
       "172913 2020-05-24       Union  Oregon       41061      6       0        6\n",
       "172914 2020-05-24     Wallowa  Oregon       41063      2       0        6\n",
       "172915 2020-05-24       Wasco  Oregon       41065     18       1        6\n",
       "172916 2020-05-24  Washington  Oregon       41067    690      17        6\n",
       "172917 2020-05-24     Yamhill  Oregon       41071     65       7        6"
      ]
     },
     "execution_count": 39,
     "metadata": {},
     "output_type": "execute_result"
    }
   ],
   "source": [
    "or_co_weekly_df.tail()"
   ]
  },
  {
   "cell_type": "markdown",
   "metadata": {},
   "source": [
    "## Integrate population data to calculate rates"
   ]
  },
  {
   "cell_type": "code",
   "execution_count": 40,
   "metadata": {},
   "outputs": [],
   "source": [
    "weekly_df_with_population = pd.merge(\n",
    "    or_co_weekly_df, or_population_df, how='left')"
   ]
  },
  {
   "cell_type": "code",
   "execution_count": 41,
   "metadata": {},
   "outputs": [],
   "source": [
    "rate_df = pd.merge(weekly_df_with_population, reported_tests,\n",
    "                   on=['date', 'county'], how='outer')"
   ]
  },
  {
   "cell_type": "code",
   "execution_count": 42,
   "metadata": {},
   "outputs": [
    {
     "data": {
      "text/html": [
       "<div>\n",
       "<style scoped>\n",
       "    .dataframe tbody tr th:only-of-type {\n",
       "        vertical-align: middle;\n",
       "    }\n",
       "\n",
       "    .dataframe tbody tr th {\n",
       "        vertical-align: top;\n",
       "    }\n",
       "\n",
       "    .dataframe thead th {\n",
       "        text-align: right;\n",
       "    }\n",
       "</style>\n",
       "<table border=\"1\" class=\"dataframe\">\n",
       "  <thead>\n",
       "    <tr style=\"text-align: right;\">\n",
       "      <th></th>\n",
       "      <th>date</th>\n",
       "      <th>county</th>\n",
       "      <th>state</th>\n",
       "      <th>county_fips</th>\n",
       "      <th>cases</th>\n",
       "      <th>deaths</th>\n",
       "      <th>weekday</th>\n",
       "      <th>2019pop</th>\n",
       "      <th>tests_neg</th>\n",
       "      <th>tests_pos</th>\n",
       "      <th>tests_total</th>\n",
       "    </tr>\n",
       "  </thead>\n",
       "  <tbody>\n",
       "    <tr>\n",
       "      <th>0</th>\n",
       "      <td>2020-03-01</td>\n",
       "      <td>Washington</td>\n",
       "      <td>Oregon</td>\n",
       "      <td>41067</td>\n",
       "      <td>2.0</td>\n",
       "      <td>0.0</td>\n",
       "      <td>6.0</td>\n",
       "      <td>601592.0</td>\n",
       "      <td>20.0</td>\n",
       "      <td>8.0</td>\n",
       "      <td>28.0</td>\n",
       "    </tr>\n",
       "    <tr>\n",
       "      <th>1</th>\n",
       "      <td>2020-03-08</td>\n",
       "      <td>Douglas</td>\n",
       "      <td>Oregon</td>\n",
       "      <td>41019</td>\n",
       "      <td>1.0</td>\n",
       "      <td>0.0</td>\n",
       "      <td>6.0</td>\n",
       "      <td>110980.0</td>\n",
       "      <td>NaN</td>\n",
       "      <td>NaN</td>\n",
       "      <td>NaN</td>\n",
       "    </tr>\n",
       "    <tr>\n",
       "      <th>2</th>\n",
       "      <td>2020-03-08</td>\n",
       "      <td>Jackson</td>\n",
       "      <td>Oregon</td>\n",
       "      <td>41029</td>\n",
       "      <td>2.0</td>\n",
       "      <td>0.0</td>\n",
       "      <td>6.0</td>\n",
       "      <td>220944.0</td>\n",
       "      <td>NaN</td>\n",
       "      <td>NaN</td>\n",
       "      <td>NaN</td>\n",
       "    </tr>\n",
       "    <tr>\n",
       "      <th>3</th>\n",
       "      <td>2020-03-08</td>\n",
       "      <td>Klamath</td>\n",
       "      <td>Oregon</td>\n",
       "      <td>41035</td>\n",
       "      <td>1.0</td>\n",
       "      <td>0.0</td>\n",
       "      <td>6.0</td>\n",
       "      <td>68238.0</td>\n",
       "      <td>NaN</td>\n",
       "      <td>NaN</td>\n",
       "      <td>NaN</td>\n",
       "    </tr>\n",
       "    <tr>\n",
       "      <th>4</th>\n",
       "      <td>2020-03-08</td>\n",
       "      <td>Marion</td>\n",
       "      <td>Oregon</td>\n",
       "      <td>41047</td>\n",
       "      <td>1.0</td>\n",
       "      <td>0.0</td>\n",
       "      <td>6.0</td>\n",
       "      <td>347818.0</td>\n",
       "      <td>NaN</td>\n",
       "      <td>NaN</td>\n",
       "      <td>NaN</td>\n",
       "    </tr>\n",
       "    <tr>\n",
       "      <th>...</th>\n",
       "      <td>...</td>\n",
       "      <td>...</td>\n",
       "      <td>...</td>\n",
       "      <td>...</td>\n",
       "      <td>...</td>\n",
       "      <td>...</td>\n",
       "      <td>...</td>\n",
       "      <td>...</td>\n",
       "      <td>...</td>\n",
       "      <td>...</td>\n",
       "      <td>...</td>\n",
       "    </tr>\n",
       "    <tr>\n",
       "      <th>327</th>\n",
       "      <td>2020-03-01</td>\n",
       "      <td>Multnomah</td>\n",
       "      <td>NaN</td>\n",
       "      <td>NaN</td>\n",
       "      <td>NaN</td>\n",
       "      <td>NaN</td>\n",
       "      <td>NaN</td>\n",
       "      <td>NaN</td>\n",
       "      <td>36.0</td>\n",
       "      <td>1.0</td>\n",
       "      <td>37.0</td>\n",
       "    </tr>\n",
       "    <tr>\n",
       "      <th>328</th>\n",
       "      <td>2020-03-01</td>\n",
       "      <td>Yamhill</td>\n",
       "      <td>NaN</td>\n",
       "      <td>NaN</td>\n",
       "      <td>NaN</td>\n",
       "      <td>NaN</td>\n",
       "      <td>NaN</td>\n",
       "      <td>NaN</td>\n",
       "      <td>10.0</td>\n",
       "      <td>0.0</td>\n",
       "      <td>10.0</td>\n",
       "    </tr>\n",
       "    <tr>\n",
       "      <th>329</th>\n",
       "      <td>2020-03-08</td>\n",
       "      <td>Clackamas</td>\n",
       "      <td>NaN</td>\n",
       "      <td>NaN</td>\n",
       "      <td>NaN</td>\n",
       "      <td>NaN</td>\n",
       "      <td>NaN</td>\n",
       "      <td>NaN</td>\n",
       "      <td>111.0</td>\n",
       "      <td>8.0</td>\n",
       "      <td>119.0</td>\n",
       "    </tr>\n",
       "    <tr>\n",
       "      <th>330</th>\n",
       "      <td>2020-03-08</td>\n",
       "      <td>Multnomah</td>\n",
       "      <td>NaN</td>\n",
       "      <td>NaN</td>\n",
       "      <td>NaN</td>\n",
       "      <td>NaN</td>\n",
       "      <td>NaN</td>\n",
       "      <td>NaN</td>\n",
       "      <td>288.0</td>\n",
       "      <td>5.0</td>\n",
       "      <td>293.0</td>\n",
       "    </tr>\n",
       "    <tr>\n",
       "      <th>331</th>\n",
       "      <td>2020-03-08</td>\n",
       "      <td>Yamhill</td>\n",
       "      <td>NaN</td>\n",
       "      <td>NaN</td>\n",
       "      <td>NaN</td>\n",
       "      <td>NaN</td>\n",
       "      <td>NaN</td>\n",
       "      <td>NaN</td>\n",
       "      <td>51.0</td>\n",
       "      <td>2.0</td>\n",
       "      <td>53.0</td>\n",
       "    </tr>\n",
       "  </tbody>\n",
       "</table>\n",
       "<p>332 rows × 11 columns</p>\n",
       "</div>"
      ],
      "text/plain": [
       "          date      county   state county_fips  cases  deaths  weekday  \\\n",
       "0   2020-03-01  Washington  Oregon       41067    2.0     0.0      6.0   \n",
       "1   2020-03-08     Douglas  Oregon       41019    1.0     0.0      6.0   \n",
       "2   2020-03-08     Jackson  Oregon       41029    2.0     0.0      6.0   \n",
       "3   2020-03-08     Klamath  Oregon       41035    1.0     0.0      6.0   \n",
       "4   2020-03-08      Marion  Oregon       41047    1.0     0.0      6.0   \n",
       "..         ...         ...     ...         ...    ...     ...      ...   \n",
       "327 2020-03-01   Multnomah     NaN         NaN    NaN     NaN      NaN   \n",
       "328 2020-03-01     Yamhill     NaN         NaN    NaN     NaN      NaN   \n",
       "329 2020-03-08   Clackamas     NaN         NaN    NaN     NaN      NaN   \n",
       "330 2020-03-08   Multnomah     NaN         NaN    NaN     NaN      NaN   \n",
       "331 2020-03-08     Yamhill     NaN         NaN    NaN     NaN      NaN   \n",
       "\n",
       "      2019pop  tests_neg  tests_pos  tests_total  \n",
       "0    601592.0       20.0        8.0         28.0  \n",
       "1    110980.0        NaN        NaN          NaN  \n",
       "2    220944.0        NaN        NaN          NaN  \n",
       "3     68238.0        NaN        NaN          NaN  \n",
       "4    347818.0        NaN        NaN          NaN  \n",
       "..        ...        ...        ...          ...  \n",
       "327       NaN       36.0        1.0         37.0  \n",
       "328       NaN       10.0        0.0         10.0  \n",
       "329       NaN      111.0        8.0        119.0  \n",
       "330       NaN      288.0        5.0        293.0  \n",
       "331       NaN       51.0        2.0         53.0  \n",
       "\n",
       "[332 rows x 11 columns]"
      ]
     },
     "execution_count": 42,
     "metadata": {},
     "output_type": "execute_result"
    }
   ],
   "source": [
    "rate_df"
   ]
  },
  {
   "cell_type": "code",
   "execution_count": 43,
   "metadata": {},
   "outputs": [],
   "source": [
    "def calculate_rate(field, population):\n",
    "    per_capita = field/population\n",
    "    rounded_rate = round(per_capita * 100000, 2)\n",
    "    return rounded_rate"
   ]
  },
  {
   "cell_type": "code",
   "execution_count": 44,
   "metadata": {},
   "outputs": [],
   "source": [
    "rate_df['cases_per_100k'] = calculate_rate(\n",
    "    rate_df['cases'], rate_df['2019pop'])"
   ]
  },
  {
   "cell_type": "code",
   "execution_count": 45,
   "metadata": {},
   "outputs": [],
   "source": [
    "rate_df['deaths_per_100k'] = calculate_rate(\n",
    "    rate_df['deaths'], rate_df['2019pop'])"
   ]
  },
  {
   "cell_type": "code",
   "execution_count": 46,
   "metadata": {},
   "outputs": [],
   "source": [
    "rate_df['tests_per_100k'] = calculate_rate(\n",
    "    rate_df['tests_total'], rate_df['2019pop'])"
   ]
  },
  {
   "cell_type": "code",
   "execution_count": 47,
   "metadata": {},
   "outputs": [],
   "source": [
    "output(rate_df, 'oregon_rates_by_county', subdir='output', archive=False)"
   ]
  },
  {
   "cell_type": "code",
   "execution_count": 48,
   "metadata": {},
   "outputs": [],
   "source": [
    "reported_by_multco = rate_df[rate_df['county'].isin(\n",
    "    ['Clackamas', 'Multnomah', 'Washington', 'Yamhill'])]"
   ]
  },
  {
   "cell_type": "code",
   "execution_count": 49,
   "metadata": {},
   "outputs": [
    {
     "data": {
      "text/html": [
       "<div>\n",
       "<style scoped>\n",
       "    .dataframe tbody tr th:only-of-type {\n",
       "        vertical-align: middle;\n",
       "    }\n",
       "\n",
       "    .dataframe tbody tr th {\n",
       "        vertical-align: top;\n",
       "    }\n",
       "\n",
       "    .dataframe thead th {\n",
       "        text-align: right;\n",
       "    }\n",
       "</style>\n",
       "<table border=\"1\" class=\"dataframe\">\n",
       "  <thead>\n",
       "    <tr style=\"text-align: right;\">\n",
       "      <th></th>\n",
       "      <th>date</th>\n",
       "      <th>county</th>\n",
       "      <th>state</th>\n",
       "      <th>county_fips</th>\n",
       "      <th>cases</th>\n",
       "      <th>deaths</th>\n",
       "      <th>weekday</th>\n",
       "      <th>2019pop</th>\n",
       "      <th>tests_neg</th>\n",
       "      <th>tests_pos</th>\n",
       "      <th>tests_total</th>\n",
       "      <th>cases_per_100k</th>\n",
       "      <th>deaths_per_100k</th>\n",
       "      <th>tests_per_100k</th>\n",
       "    </tr>\n",
       "  </thead>\n",
       "  <tbody>\n",
       "    <tr>\n",
       "      <th>0</th>\n",
       "      <td>2020-03-01</td>\n",
       "      <td>Washington</td>\n",
       "      <td>Oregon</td>\n",
       "      <td>41067</td>\n",
       "      <td>2.0</td>\n",
       "      <td>0.0</td>\n",
       "      <td>6.0</td>\n",
       "      <td>601592.0</td>\n",
       "      <td>20.0</td>\n",
       "      <td>8.0</td>\n",
       "      <td>28.0</td>\n",
       "      <td>0.33</td>\n",
       "      <td>0.00</td>\n",
       "      <td>4.65</td>\n",
       "    </tr>\n",
       "    <tr>\n",
       "      <th>5</th>\n",
       "      <td>2020-03-08</td>\n",
       "      <td>Washington</td>\n",
       "      <td>Oregon</td>\n",
       "      <td>41067</td>\n",
       "      <td>8.0</td>\n",
       "      <td>0.0</td>\n",
       "      <td>6.0</td>\n",
       "      <td>601592.0</td>\n",
       "      <td>170.0</td>\n",
       "      <td>9.0</td>\n",
       "      <td>179.0</td>\n",
       "      <td>1.33</td>\n",
       "      <td>0.00</td>\n",
       "      <td>29.75</td>\n",
       "    </tr>\n",
       "    <tr>\n",
       "      <th>6</th>\n",
       "      <td>2020-03-15</td>\n",
       "      <td>Clackamas</td>\n",
       "      <td>Oregon</td>\n",
       "      <td>41005</td>\n",
       "      <td>1.0</td>\n",
       "      <td>0.0</td>\n",
       "      <td>6.0</td>\n",
       "      <td>418187.0</td>\n",
       "      <td>516.0</td>\n",
       "      <td>20.0</td>\n",
       "      <td>536.0</td>\n",
       "      <td>0.24</td>\n",
       "      <td>0.00</td>\n",
       "      <td>128.17</td>\n",
       "    </tr>\n",
       "    <tr>\n",
       "      <th>13</th>\n",
       "      <td>2020-03-15</td>\n",
       "      <td>Multnomah</td>\n",
       "      <td>Oregon</td>\n",
       "      <td>41051</td>\n",
       "      <td>1.0</td>\n",
       "      <td>1.0</td>\n",
       "      <td>6.0</td>\n",
       "      <td>812855.0</td>\n",
       "      <td>1730.0</td>\n",
       "      <td>41.0</td>\n",
       "      <td>1771.0</td>\n",
       "      <td>0.12</td>\n",
       "      <td>0.12</td>\n",
       "      <td>217.87</td>\n",
       "    </tr>\n",
       "    <tr>\n",
       "      <th>16</th>\n",
       "      <td>2020-03-15</td>\n",
       "      <td>Washington</td>\n",
       "      <td>Oregon</td>\n",
       "      <td>41067</td>\n",
       "      <td>13.0</td>\n",
       "      <td>0.0</td>\n",
       "      <td>6.0</td>\n",
       "      <td>601592.0</td>\n",
       "      <td>697.0</td>\n",
       "      <td>64.0</td>\n",
       "      <td>761.0</td>\n",
       "      <td>2.16</td>\n",
       "      <td>0.00</td>\n",
       "      <td>126.50</td>\n",
       "    </tr>\n",
       "  </tbody>\n",
       "</table>\n",
       "</div>"
      ],
      "text/plain": [
       "         date      county   state county_fips  cases  deaths  weekday  \\\n",
       "0  2020-03-01  Washington  Oregon       41067    2.0     0.0      6.0   \n",
       "5  2020-03-08  Washington  Oregon       41067    8.0     0.0      6.0   \n",
       "6  2020-03-15   Clackamas  Oregon       41005    1.0     0.0      6.0   \n",
       "13 2020-03-15   Multnomah  Oregon       41051    1.0     1.0      6.0   \n",
       "16 2020-03-15  Washington  Oregon       41067   13.0     0.0      6.0   \n",
       "\n",
       "     2019pop  tests_neg  tests_pos  tests_total  cases_per_100k  \\\n",
       "0   601592.0       20.0        8.0         28.0            0.33   \n",
       "5   601592.0      170.0        9.0        179.0            1.33   \n",
       "6   418187.0      516.0       20.0        536.0            0.24   \n",
       "13  812855.0     1730.0       41.0       1771.0            0.12   \n",
       "16  601592.0      697.0       64.0        761.0            2.16   \n",
       "\n",
       "    deaths_per_100k  tests_per_100k  \n",
       "0              0.00            4.65  \n",
       "5              0.00           29.75  \n",
       "6              0.00          128.17  \n",
       "13             0.12          217.87  \n",
       "16             0.00          126.50  "
      ]
     },
     "execution_count": 49,
     "metadata": {},
     "output_type": "execute_result"
    }
   ],
   "source": [
    "reported_by_multco.head()"
   ]
  },
  {
   "cell_type": "markdown",
   "metadata": {},
   "source": [
    "# Appendix A: Mobility data"
   ]
  },
  {
   "cell_type": "markdown",
   "metadata": {},
   "source": [
    "I put this in an appendix because it's fascinating data, but I don't know enough about the data capture or analysis methods by the company producing it to integrate it into the information above.\n",
    "\n",
    "That said, I think it's worth noting that I learned about this data set from an excellent _[Tampa Bay Times](https://tampabay.com/news/health/2020/05/10/how-florida-slowed-coronavirus-everyone-stayed-home-before-they-were-told-to/)_ analysis of evidence that Florida may not have had an infection rate as bad as people anticipated in part because people stayed home before the statewide stay-at-home order. The authors ran their findings by experts."
   ]
  },
  {
   "cell_type": "markdown",
   "metadata": {},
   "source": [
    "## Pull Oregon data and restructure"
   ]
  },
  {
   "cell_type": "code",
   "execution_count": 50,
   "metadata": {},
   "outputs": [],
   "source": [
    "mobility_data = pd.read_csv(\n",
    "    'https://raw.githubusercontent.com/descarteslabs/DL-COVID-19/master/DL-us-mobility-daterow.csv',\n",
    "    dtype={'fips': str},\n",
    "    parse_dates=['date']\n",
    ")"
   ]
  },
  {
   "cell_type": "code",
   "execution_count": 51,
   "metadata": {},
   "outputs": [
    {
     "data": {
      "text/html": [
       "<div>\n",
       "<style scoped>\n",
       "    .dataframe tbody tr th:only-of-type {\n",
       "        vertical-align: middle;\n",
       "    }\n",
       "\n",
       "    .dataframe tbody tr th {\n",
       "        vertical-align: top;\n",
       "    }\n",
       "\n",
       "    .dataframe thead th {\n",
       "        text-align: right;\n",
       "    }\n",
       "</style>\n",
       "<table border=\"1\" class=\"dataframe\">\n",
       "  <thead>\n",
       "    <tr style=\"text-align: right;\">\n",
       "      <th></th>\n",
       "      <th>date</th>\n",
       "      <th>country_code</th>\n",
       "      <th>admin_level</th>\n",
       "      <th>admin1</th>\n",
       "      <th>admin2</th>\n",
       "      <th>fips</th>\n",
       "      <th>samples</th>\n",
       "      <th>m50</th>\n",
       "      <th>m50_index</th>\n",
       "    </tr>\n",
       "  </thead>\n",
       "  <tbody>\n",
       "    <tr>\n",
       "      <th>0</th>\n",
       "      <td>2020-03-01</td>\n",
       "      <td>US</td>\n",
       "      <td>1</td>\n",
       "      <td>Alabama</td>\n",
       "      <td>NaN</td>\n",
       "      <td>01</td>\n",
       "      <td>133826</td>\n",
       "      <td>8.331</td>\n",
       "      <td>79</td>\n",
       "    </tr>\n",
       "    <tr>\n",
       "      <th>1</th>\n",
       "      <td>2020-03-02</td>\n",
       "      <td>US</td>\n",
       "      <td>1</td>\n",
       "      <td>Alabama</td>\n",
       "      <td>NaN</td>\n",
       "      <td>01</td>\n",
       "      <td>143632</td>\n",
       "      <td>10.398</td>\n",
       "      <td>98</td>\n",
       "    </tr>\n",
       "    <tr>\n",
       "      <th>2</th>\n",
       "      <td>2020-03-03</td>\n",
       "      <td>US</td>\n",
       "      <td>1</td>\n",
       "      <td>Alabama</td>\n",
       "      <td>NaN</td>\n",
       "      <td>01</td>\n",
       "      <td>146009</td>\n",
       "      <td>10.538</td>\n",
       "      <td>100</td>\n",
       "    </tr>\n",
       "    <tr>\n",
       "      <th>3</th>\n",
       "      <td>2020-03-04</td>\n",
       "      <td>US</td>\n",
       "      <td>1</td>\n",
       "      <td>Alabama</td>\n",
       "      <td>NaN</td>\n",
       "      <td>01</td>\n",
       "      <td>149352</td>\n",
       "      <td>10.144</td>\n",
       "      <td>96</td>\n",
       "    </tr>\n",
       "    <tr>\n",
       "      <th>4</th>\n",
       "      <td>2020-03-05</td>\n",
       "      <td>US</td>\n",
       "      <td>1</td>\n",
       "      <td>Alabama</td>\n",
       "      <td>NaN</td>\n",
       "      <td>01</td>\n",
       "      <td>144109</td>\n",
       "      <td>10.982</td>\n",
       "      <td>104</td>\n",
       "    </tr>\n",
       "    <tr>\n",
       "      <th>...</th>\n",
       "      <td>...</td>\n",
       "      <td>...</td>\n",
       "      <td>...</td>\n",
       "      <td>...</td>\n",
       "      <td>...</td>\n",
       "      <td>...</td>\n",
       "      <td>...</td>\n",
       "      <td>...</td>\n",
       "      <td>...</td>\n",
       "    </tr>\n",
       "    <tr>\n",
       "      <th>222937</th>\n",
       "      <td>2020-05-19</td>\n",
       "      <td>US</td>\n",
       "      <td>2</td>\n",
       "      <td>Wyoming</td>\n",
       "      <td>Uinta County</td>\n",
       "      <td>56041</td>\n",
       "      <td>726</td>\n",
       "      <td>4.451</td>\n",
       "      <td>142</td>\n",
       "    </tr>\n",
       "    <tr>\n",
       "      <th>222938</th>\n",
       "      <td>2020-05-20</td>\n",
       "      <td>US</td>\n",
       "      <td>2</td>\n",
       "      <td>Wyoming</td>\n",
       "      <td>Uinta County</td>\n",
       "      <td>56041</td>\n",
       "      <td>794</td>\n",
       "      <td>4.378</td>\n",
       "      <td>139</td>\n",
       "    </tr>\n",
       "    <tr>\n",
       "      <th>222939</th>\n",
       "      <td>2020-05-21</td>\n",
       "      <td>US</td>\n",
       "      <td>2</td>\n",
       "      <td>Wyoming</td>\n",
       "      <td>Uinta County</td>\n",
       "      <td>56041</td>\n",
       "      <td>757</td>\n",
       "      <td>5.642</td>\n",
       "      <td>180</td>\n",
       "    </tr>\n",
       "    <tr>\n",
       "      <th>222940</th>\n",
       "      <td>2020-05-22</td>\n",
       "      <td>US</td>\n",
       "      <td>2</td>\n",
       "      <td>Wyoming</td>\n",
       "      <td>Uinta County</td>\n",
       "      <td>56041</td>\n",
       "      <td>742</td>\n",
       "      <td>6.247</td>\n",
       "      <td>199</td>\n",
       "    </tr>\n",
       "    <tr>\n",
       "      <th>222941</th>\n",
       "      <td>2020-05-23</td>\n",
       "      <td>US</td>\n",
       "      <td>2</td>\n",
       "      <td>Wyoming</td>\n",
       "      <td>Uinta County</td>\n",
       "      <td>56041</td>\n",
       "      <td>801</td>\n",
       "      <td>4.644</td>\n",
       "      <td>148</td>\n",
       "    </tr>\n",
       "  </tbody>\n",
       "</table>\n",
       "<p>222942 rows × 9 columns</p>\n",
       "</div>"
      ],
      "text/plain": [
       "             date country_code  admin_level   admin1        admin2   fips  \\\n",
       "0      2020-03-01           US            1  Alabama           NaN     01   \n",
       "1      2020-03-02           US            1  Alabama           NaN     01   \n",
       "2      2020-03-03           US            1  Alabama           NaN     01   \n",
       "3      2020-03-04           US            1  Alabama           NaN     01   \n",
       "4      2020-03-05           US            1  Alabama           NaN     01   \n",
       "...           ...          ...          ...      ...           ...    ...   \n",
       "222937 2020-05-19           US            2  Wyoming  Uinta County  56041   \n",
       "222938 2020-05-20           US            2  Wyoming  Uinta County  56041   \n",
       "222939 2020-05-21           US            2  Wyoming  Uinta County  56041   \n",
       "222940 2020-05-22           US            2  Wyoming  Uinta County  56041   \n",
       "222941 2020-05-23           US            2  Wyoming  Uinta County  56041   \n",
       "\n",
       "        samples     m50  m50_index  \n",
       "0        133826   8.331         79  \n",
       "1        143632  10.398         98  \n",
       "2        146009  10.538        100  \n",
       "3        149352  10.144         96  \n",
       "4        144109  10.982        104  \n",
       "...         ...     ...        ...  \n",
       "222937      726   4.451        142  \n",
       "222938      794   4.378        139  \n",
       "222939      757   5.642        180  \n",
       "222940      742   6.247        199  \n",
       "222941      801   4.644        148  \n",
       "\n",
       "[222942 rows x 9 columns]"
      ]
     },
     "execution_count": 51,
     "metadata": {},
     "output_type": "execute_result"
    }
   ],
   "source": [
    "mobility_data"
   ]
  },
  {
   "cell_type": "code",
   "execution_count": 52,
   "metadata": {},
   "outputs": [],
   "source": [
    "or_state_mobility = mobility_data[mobility_data['fips'] == '41'].copy()"
   ]
  },
  {
   "cell_type": "code",
   "execution_count": 53,
   "metadata": {},
   "outputs": [],
   "source": [
    "or_state_mobility.drop(\n",
    "    labels=['country_code', 'admin_level', 'admin1', 'admin2'], axis=1, inplace=True)"
   ]
  },
  {
   "cell_type": "code",
   "execution_count": 54,
   "metadata": {},
   "outputs": [],
   "source": [
    "output(or_state_mobility, 'oregon_mobility_state', subdir='appendix', archive=True)"
   ]
  },
  {
   "cell_type": "code",
   "execution_count": 55,
   "metadata": {},
   "outputs": [],
   "source": [
    "or_county_mobility = mobility_data[(mobility_data['admin_level'] == 2) & (\n",
    "    mobility_data['admin1'] == 'Oregon')].copy()"
   ]
  },
  {
   "cell_type": "code",
   "execution_count": 56,
   "metadata": {},
   "outputs": [],
   "source": [
    "or_county_mobility.drop(\n",
    "    labels=['country_code', 'admin_level', 'admin1'], axis=1, inplace=True)"
   ]
  },
  {
   "cell_type": "code",
   "execution_count": 57,
   "metadata": {},
   "outputs": [],
   "source": [
    "or_county_mobility.rename(\n",
    "    columns={'admin2': 'county', 'fips': 'county_fips'}, inplace=True)"
   ]
  },
  {
   "cell_type": "code",
   "execution_count": 58,
   "metadata": {},
   "outputs": [],
   "source": [
    "or_county_mobility['county'] = or_county_mobility['county'].str.replace(\n",
    "    ' County', '')"
   ]
  },
  {
   "cell_type": "code",
   "execution_count": 59,
   "metadata": {},
   "outputs": [],
   "source": [
    "output(or_county_mobility, 'oregon_mobility_county', subdir='appendix', archive=True)"
   ]
  },
  {
   "cell_type": "markdown",
   "metadata": {},
   "source": [
    "## Describe my understanding of the data"
   ]
  },
  {
   "cell_type": "code",
   "execution_count": 60,
   "metadata": {},
   "outputs": [],
   "source": [
    "sample = or_county_mobility[or_county_mobility['county'] == 'Multnomah']"
   ]
  },
  {
   "cell_type": "markdown",
   "metadata": {},
   "source": [
    "### Variables\n",
    "#### Categorical\n",
    "\n",
    "- **Admin**\n",
    "\n",
    "  - “For a canonical position of each processed node (such as the first or last report of the day in local time, or a derived location such as the centroid of node locations) we reverse geocode the location to a country and administrative region.”\n",
    "\n",
    "  - **Admin1** is the first-order administrative division, being a primary administrative division of a country, such as a state in the United States.\n",
    "\n",
    "  - **Admin2** is a second-order administrative division, such as a county or borough in the United States.\n",
    "  \n",
    "  \n",
    "\n",
    "- **Name**\n",
    "  - \"Name is a populated place feature, representing a city, town, village, or other agglomeration of buildings where people live and work.\""
   ]
  },
  {
   "cell_type": "markdown",
   "metadata": {},
   "source": [
    "#### Numerical\n",
    "\n",
    "- **$m_{max}$**\n",
    "  - “The maximum Haversine (great circle) distance (in units of km) from the initial location report of the day.”\n",
    "  - “Outliers (which can occur with bad position reports caused by poor GPS fixes or other errors) are trimmed by eliminating the top 10% of the distribution.”\n",
    "\n",
    "\n",
    "- **$m50$**\n",
    "  - The median of **$M_{max}$** values for each area of interest, e.g. **Admin1** or **Admin2**.\n",
    "\n",
    "\n",
    "- **$m50_{norm}$**\n",
    "\n",
    "  - “A ‘normal’ value of $m50$ in a region, defined as the median $m50$ in that region during a designated earlier time period.”\n",
    "  - “We use the median weekday value of $m50$ between the dates of 2020-20-17 and 2020-03-07 as $m50_{norm}$ to investigate COVID-19 related changes in the US.”\n",
    "  \n",
    "\n",
    "- **$m50_{index}$**\n",
    "\n",
    "  - $m50_{index} = 100\\frac{m50}{m50_{norm}}$"
   ]
  },
  {
   "cell_type": "markdown",
   "metadata": {},
   "source": [
    "### m50 index\n",
    "\n",
    "Just to repeat, this is equation from the paper:\n",
    "\n",
    "$$m50_{index} = 100\\frac{m50}{m50_{norm}}$$\n",
    "\n",
    "Here's an example of its being applied to real data."
   ]
  },
  {
   "cell_type": "code",
   "execution_count": 61,
   "metadata": {},
   "outputs": [
    {
     "data": {
      "text/html": [
       "<div>\n",
       "<style scoped>\n",
       "    .dataframe tbody tr th:only-of-type {\n",
       "        vertical-align: middle;\n",
       "    }\n",
       "\n",
       "    .dataframe tbody tr th {\n",
       "        vertical-align: top;\n",
       "    }\n",
       "\n",
       "    .dataframe thead th {\n",
       "        text-align: right;\n",
       "    }\n",
       "</style>\n",
       "<table border=\"1\" class=\"dataframe\">\n",
       "  <thead>\n",
       "    <tr style=\"text-align: right;\">\n",
       "      <th></th>\n",
       "      <th>date</th>\n",
       "      <th>county</th>\n",
       "      <th>county_fips</th>\n",
       "      <th>samples</th>\n",
       "      <th>m50</th>\n",
       "      <th>m50_index</th>\n",
       "    </tr>\n",
       "  </thead>\n",
       "  <tbody>\n",
       "    <tr>\n",
       "      <th>159008</th>\n",
       "      <td>2020-03-01</td>\n",
       "      <td>Multnomah</td>\n",
       "      <td>41051</td>\n",
       "      <td>8938</td>\n",
       "      <td>2.939</td>\n",
       "      <td>58</td>\n",
       "    </tr>\n",
       "    <tr>\n",
       "      <th>159009</th>\n",
       "      <td>2020-03-02</td>\n",
       "      <td>Multnomah</td>\n",
       "      <td>41051</td>\n",
       "      <td>9142</td>\n",
       "      <td>4.482</td>\n",
       "      <td>89</td>\n",
       "    </tr>\n",
       "    <tr>\n",
       "      <th>159010</th>\n",
       "      <td>2020-03-03</td>\n",
       "      <td>Multnomah</td>\n",
       "      <td>41051</td>\n",
       "      <td>9440</td>\n",
       "      <td>4.783</td>\n",
       "      <td>95</td>\n",
       "    </tr>\n",
       "    <tr>\n",
       "      <th>159011</th>\n",
       "      <td>2020-03-04</td>\n",
       "      <td>Multnomah</td>\n",
       "      <td>41051</td>\n",
       "      <td>9637</td>\n",
       "      <td>5.023</td>\n",
       "      <td>100</td>\n",
       "    </tr>\n",
       "    <tr>\n",
       "      <th>159012</th>\n",
       "      <td>2020-03-05</td>\n",
       "      <td>Multnomah</td>\n",
       "      <td>41051</td>\n",
       "      <td>9275</td>\n",
       "      <td>5.354</td>\n",
       "      <td>106</td>\n",
       "    </tr>\n",
       "  </tbody>\n",
       "</table>\n",
       "</div>"
      ],
      "text/plain": [
       "             date     county county_fips  samples    m50  m50_index\n",
       "159008 2020-03-01  Multnomah       41051     8938  2.939         58\n",
       "159009 2020-03-02  Multnomah       41051     9142  4.482         89\n",
       "159010 2020-03-03  Multnomah       41051     9440  4.783         95\n",
       "159011 2020-03-04  Multnomah       41051     9637  5.023        100\n",
       "159012 2020-03-05  Multnomah       41051     9275  5.354        106"
      ]
     },
     "execution_count": 61,
     "metadata": {},
     "output_type": "execute_result"
    }
   ],
   "source": [
    "sample.head()"
   ]
  },
  {
   "cell_type": "markdown",
   "metadata": {},
   "source": [
    "`samples` for March 1, 2020 equals 8938, meaning that this day's data corresponds to movements of 8,938 anonymized devices located in the Multnomah County area _at the beginning of the day_, which is taken to mean that the device belongs to a person living or staying in Multnomah County at the time.\n",
    "\n",
    "`m50` starts with an examination of the farthest distance traveled by each device over that day in kilometers, $m_{max}$. Then the researchers calculated the median of all of these values.\n",
    "\n",
    "  - On March 1, 2020, `m50` is 2.939, which means that half of the devices this day -- 4,469 -- traveled less than 2.939 kilometers (or about 1.8 miles) from where they started.\n",
    "  \n",
    "  \n",
    "**Important**\n",
    "\n",
    "$m50_{norm}$ is a median of _these medians_ over a time period that the researchers understand to correspond to typical movement among devices in a particular region (in this case, Multnomah County).\n",
    "\n",
    "Again, $m50_{index}$ equals the following, multiplied by 100:\n",
    "\n",
    "$$\\frac{m50}{m50_{norm}}$$\n",
    "\n",
    "$$or$$\n",
    "\n",
    "$$\\frac{\\mathrm{median\\ movement}\\ e.g.\\mathrm{\\ March\\ 1}}{\\mathrm{typical\\ daily\\ movement\\ over\\ before\\ the\\ pandemic}}$$.\n",
    "\n",
    "So if the $m50_{index}$ for March 1 is 58, this means that the median of the distances traveled (2.939) is .58 the typical distance prior to the pandemic, or about 5.1 kilometers.\n",
    "\n",
    "We can test this understanding by selecting a day (like March 4) with an index of 100, which would mean that the $m50$ that day is about what was typical:"
   ]
  },
  {
   "cell_type": "code",
   "execution_count": 62,
   "metadata": {
    "scrolled": true
   },
   "outputs": [
    {
     "data": {
      "text/html": [
       "<div>\n",
       "<style scoped>\n",
       "    .dataframe tbody tr th:only-of-type {\n",
       "        vertical-align: middle;\n",
       "    }\n",
       "\n",
       "    .dataframe tbody tr th {\n",
       "        vertical-align: top;\n",
       "    }\n",
       "\n",
       "    .dataframe thead th {\n",
       "        text-align: right;\n",
       "    }\n",
       "</style>\n",
       "<table border=\"1\" class=\"dataframe\">\n",
       "  <thead>\n",
       "    <tr style=\"text-align: right;\">\n",
       "      <th></th>\n",
       "      <th>date</th>\n",
       "      <th>county</th>\n",
       "      <th>county_fips</th>\n",
       "      <th>samples</th>\n",
       "      <th>m50</th>\n",
       "      <th>m50_index</th>\n",
       "    </tr>\n",
       "  </thead>\n",
       "  <tbody>\n",
       "    <tr>\n",
       "      <th>159011</th>\n",
       "      <td>2020-03-04</td>\n",
       "      <td>Multnomah</td>\n",
       "      <td>41051</td>\n",
       "      <td>9637</td>\n",
       "      <td>5.023</td>\n",
       "      <td>100</td>\n",
       "    </tr>\n",
       "  </tbody>\n",
       "</table>\n",
       "</div>"
      ],
      "text/plain": [
       "             date     county county_fips  samples    m50  m50_index\n",
       "159011 2020-03-04  Multnomah       41051     9637  5.023        100"
      ]
     },
     "execution_count": 62,
     "metadata": {},
     "output_type": "execute_result"
    }
   ],
   "source": [
    "sample[sample['date'] == '2020-03-04']"
   ]
  },
  {
   "cell_type": "code",
   "execution_count": 63,
   "metadata": {},
   "outputs": [],
   "source": [
    "typical = 5.023"
   ]
  },
  {
   "cell_type": "code",
   "execution_count": 64,
   "metadata": {},
   "outputs": [
    {
     "data": {
      "text/html": [
       "<div>\n",
       "<style scoped>\n",
       "    .dataframe tbody tr th:only-of-type {\n",
       "        vertical-align: middle;\n",
       "    }\n",
       "\n",
       "    .dataframe tbody tr th {\n",
       "        vertical-align: top;\n",
       "    }\n",
       "\n",
       "    .dataframe thead th {\n",
       "        text-align: right;\n",
       "    }\n",
       "</style>\n",
       "<table border=\"1\" class=\"dataframe\">\n",
       "  <thead>\n",
       "    <tr style=\"text-align: right;\">\n",
       "      <th></th>\n",
       "      <th>date</th>\n",
       "      <th>county</th>\n",
       "      <th>county_fips</th>\n",
       "      <th>samples</th>\n",
       "      <th>m50</th>\n",
       "      <th>m50_index</th>\n",
       "    </tr>\n",
       "  </thead>\n",
       "  <tbody>\n",
       "    <tr>\n",
       "      <th>159008</th>\n",
       "      <td>2020-03-01</td>\n",
       "      <td>Multnomah</td>\n",
       "      <td>41051</td>\n",
       "      <td>8938</td>\n",
       "      <td>2.939</td>\n",
       "      <td>58</td>\n",
       "    </tr>\n",
       "  </tbody>\n",
       "</table>\n",
       "</div>"
      ],
      "text/plain": [
       "             date     county county_fips  samples    m50  m50_index\n",
       "159008 2020-03-01  Multnomah       41051     8938  2.939         58"
      ]
     },
     "execution_count": 64,
     "metadata": {},
     "output_type": "execute_result"
    }
   ],
   "source": [
    "sample[sample['date'] == '2020-03-01']"
   ]
  },
  {
   "cell_type": "code",
   "execution_count": 65,
   "metadata": {},
   "outputs": [],
   "source": [
    "march_1 = 2.939"
   ]
  },
  {
   "cell_type": "code",
   "execution_count": 66,
   "metadata": {},
   "outputs": [
    {
     "data": {
      "text/plain": [
       "0.025660000000000238"
      ]
     },
     "execution_count": 66,
     "metadata": {},
     "output_type": "execute_result"
    }
   ],
   "source": [
    "march_1 - typical * .58"
   ]
  },
  {
   "cell_type": "markdown",
   "metadata": {},
   "source": [
    "This is about a 2.6% difference, which is not surprising given rounding errors!"
   ]
  },
  {
   "cell_type": "markdown",
   "metadata": {},
   "source": [
    "Okay.\n",
    "\n",
    "If you got this far, here's code you can run to output this data to something manageable in visualization software. The data as of 5/24 is in the `appendix` subdirectory."
   ]
  },
  {
   "cell_type": "code",
   "execution_count": 67,
   "metadata": {},
   "outputs": [],
   "source": [
    "or_county_mobility['avg_miles_traveled'] = or_county_mobility['m50']/1.609"
   ]
  },
  {
   "cell_type": "code",
   "execution_count": 68,
   "metadata": {},
   "outputs": [],
   "source": [
    "or_county_mobility['pct_change'] = (or_county_mobility['m50_index']-100)/100"
   ]
  },
  {
   "cell_type": "code",
   "execution_count": 69,
   "metadata": {},
   "outputs": [],
   "source": [
    "output(or_county_mobility, 'ocm_processed', subdir='appendix', archive=True)"
   ]
  }
 ],
 "metadata": {
  "kernelspec": {
   "display_name": "Python 3",
   "language": "python",
   "name": "python3"
  },
  "language_info": {
   "codemirror_mode": {
    "name": "ipython",
    "version": 3
   },
   "file_extension": ".py",
   "mimetype": "text/x-python",
   "name": "python",
   "nbconvert_exporter": "python",
   "pygments_lexer": "ipython3",
   "version": "3.7.1"
  },
  "toc": {
   "base_numbering": 1,
   "nav_menu": {},
   "number_sections": true,
   "sideBar": true,
   "skip_h1_title": false,
   "title_cell": "Table of Contents",
   "title_sidebar": "Contents",
   "toc_cell": true,
   "toc_position": {},
   "toc_section_display": true,
   "toc_window_display": true
  }
 },
 "nbformat": 4,
 "nbformat_minor": 2
}
